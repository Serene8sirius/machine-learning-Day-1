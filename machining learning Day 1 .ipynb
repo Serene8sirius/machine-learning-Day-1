{
 "cells": [
  {
   "cell_type": "code",
   "execution_count": 21,
   "metadata": {
    "scrolled": true
   },
   "outputs": [
    {
     "ename": "NameError",
     "evalue": "name 'all_review' is not defined",
     "output_type": "error",
     "traceback": [
      "\u001b[1;31m---------------------------------------------------------------------------\u001b[0m",
      "\u001b[1;31mNameError\u001b[0m                                 Traceback (most recent call last)",
      "\u001b[1;32m<ipython-input-21-a96c14a3b658>\u001b[0m in \u001b[0;36m<module>\u001b[1;34m\u001b[0m\n\u001b[0;32m      1\u001b[0m \u001b[0mpratice_sentence\u001b[0m \u001b[1;33m=\u001b[0m \u001b[1;34m\"WOWOWOWOWOWOKJHU\"\u001b[0m\u001b[1;33m\u001b[0m\u001b[1;33m\u001b[0m\u001b[0m\n\u001b[1;32m----> 2\u001b[1;33m \u001b[0mpratice_sentence\u001b[0m \u001b[1;33m=\u001b[0m \u001b[0mall_review\u001b[0m\u001b[1;33m[\u001b[0m\u001b[1;36m0\u001b[0m\u001b[1;33m]\u001b[0m\u001b[1;33m\u001b[0m\u001b[1;33m\u001b[0m\u001b[0m\n\u001b[0m",
      "\u001b[1;31mNameError\u001b[0m: name 'all_review' is not defined"
     ]
    }
   ],
   "source": [
    "pratice_sentence = \"WOWOWOWOWOWOKJHU\"\n",
    "pratice_sentence = all_review[0]"
   ]
  },
  {
   "cell_type": "code",
   "execution_count": 12,
   "metadata": {},
   "outputs": [
    {
     "name": "stdout",
     "output_type": "stream",
     "text": [
      "原始字串:WOWOWOWOWOWOKJHU\n"
     ]
    }
   ],
   "source": [
    "print(\"原始字串:{}\".format(pratice_sentence))"
   ]
  },
  {
   "cell_type": "code",
   "execution_count": 14,
   "metadata": {},
   "outputs": [
    {
     "name": "stdout",
     "output_type": "stream",
     "text": [
      "字串長度:16\n"
     ]
    }
   ],
   "source": [
    "print(\"字串長度:{}\".format(len(pratice_sentence)))"
   ]
  },
  {
   "cell_type": "code",
   "execution_count": 16,
   "metadata": {},
   "outputs": [
    {
     "name": "stdout",
     "output_type": "stream",
     "text": [
      "取出前五個字:WOWOW\n"
     ]
    }
   ],
   "source": [
    "print(\"取出前五個字:{}\".format(pratice_sentence[:5]))"
   ]
  },
  {
   "cell_type": "code",
   "execution_count": 18,
   "metadata": {},
   "outputs": [
    {
     "name": "stdout",
     "output_type": "stream",
     "text": [
      "取出後五個字:OKJHU\n"
     ]
    }
   ],
   "source": [
    "print(\"取出後五個字:{}\".format(pratice_sentence[-5:]))"
   ]
  },
  {
   "cell_type": "code",
   "execution_count": 52,
   "metadata": {},
   "outputs": [],
   "source": [
    "pratice_sentence2 = \"JFKGRUENK\""
   ]
  },
  {
   "cell_type": "code",
   "execution_count": 25,
   "metadata": {},
   "outputs": [
    {
     "name": "stdout",
     "output_type": "stream",
     "text": [
      "原始字串1:J\n",
      "原始字串2:F\n"
     ]
    }
   ],
   "source": [
    "print(\"原始字串1:{}\".format(pratice_sentence2[0]))\n",
    "print(\"原始字串2:{}\".format(pratice_sentence2[1]))\n"
   ]
  },
  {
   "cell_type": "code",
   "execution_count": 28,
   "metadata": {},
   "outputs": [
    {
     "data": {
      "text/plain": [
       "'JF'"
      ]
     },
     "execution_count": 28,
     "metadata": {},
     "output_type": "execute_result"
    }
   ],
   "source": [
    "pratice_sentence2[0]+pratice_sentence2[1]"
   ]
  },
  {
   "cell_type": "code",
   "execution_count": 30,
   "metadata": {},
   "outputs": [
    {
     "data": {
      "text/plain": [
       "'J/F'"
      ]
     },
     "execution_count": 30,
     "metadata": {},
     "output_type": "execute_result"
    }
   ],
   "source": [
    "\"/\".join((pratice_sentence2[0],pratice_sentence2[1]),)"
   ]
  },
  {
   "cell_type": "code",
   "execution_count": 32,
   "metadata": {},
   "outputs": [
    {
     "data": {
      "text/plain": [
       "'J\\tF'"
      ]
     },
     "execution_count": 32,
     "metadata": {},
     "output_type": "execute_result"
    }
   ],
   "source": [
    "\"\\t\".join((pratice_sentence2[0],pratice_sentence2[1]),)"
   ]
  },
  {
   "cell_type": "code",
   "execution_count": 38,
   "metadata": {},
   "outputs": [
    {
     "name": "stdout",
     "output_type": "stream",
     "text": [
      "原始字串:F\n"
     ]
    }
   ],
   "source": [
    "pratice_sentence2=pratice_sentence2[1]\n",
    "print(\"原始字串:{}\".format(pratice_sentence2))"
   ]
  },
  {
   "cell_type": "code",
   "execution_count": 40,
   "metadata": {},
   "outputs": [
    {
     "data": {
      "text/plain": [
       "False"
      ]
     },
     "execution_count": 40,
     "metadata": {},
     "output_type": "execute_result"
    }
   ],
   "source": [
    "\"is\" in pratice_sentence2"
   ]
  },
  {
   "cell_type": "code",
   "execution_count": 42,
   "metadata": {},
   "outputs": [
    {
     "data": {
      "text/plain": [
       "False"
      ]
     },
     "execution_count": 42,
     "metadata": {},
     "output_type": "execute_result"
    }
   ],
   "source": [
    "\"I\" in pratice_sentence2"
   ]
  },
  {
   "cell_type": "code",
   "execution_count": 45,
   "metadata": {},
   "outputs": [
    {
     "data": {
      "text/plain": [
       "True"
      ]
     },
     "execution_count": 45,
     "metadata": {},
     "output_type": "execute_result"
    }
   ],
   "source": [
    "\"I\" not in pratice_sentence2"
   ]
  },
  {
   "cell_type": "code",
   "execution_count": 53,
   "metadata": {},
   "outputs": [],
   "source": [
    "#strip()\n",
    "pratice_sentence2 = pratice_sentence2 [1]"
   ]
  },
  {
   "cell_type": "code",
   "execution_count": 55,
   "metadata": {},
   "outputs": [
    {
     "name": "stdout",
     "output_type": "stream",
     "text": [
      "原始字串:F\n"
     ]
    }
   ],
   "source": [
    "print(\"原始字串:{}\".format(pratice_sentence2))"
   ]
  },
  {
   "cell_type": "code",
   "execution_count": 71,
   "metadata": {},
   "outputs": [
    {
     "data": {
      "text/plain": [
       "' is fjretw'"
      ]
     },
     "execution_count": 71,
     "metadata": {},
     "output_type": "execute_result"
    }
   ],
   "source": [
    "##移除開頭\n",
    "pratice_sentence2 = \"JFKGRUENK is fjretw\"\n",
    "pratice_sentence2.strip(\"JFKGRUENK\")"
   ]
  },
  {
   "cell_type": "code",
   "execution_count": 72,
   "metadata": {},
   "outputs": [
    {
     "data": {
      "text/plain": [
       "'JFKGRUENK is '"
      ]
     },
     "execution_count": 72,
     "metadata": {},
     "output_type": "execute_result"
    }
   ],
   "source": [
    "##移除尾部\n",
    "pratice_sentence2 = \"JFKGRUENK is fjretw\"\n",
    "pratice_sentence2.strip(\"fjretw\")"
   ]
  },
  {
   "cell_type": "code",
   "execution_count": 73,
   "metadata": {},
   "outputs": [
    {
     "data": {
      "text/plain": [
       "'JFKGRUENK is fjretw'"
      ]
     },
     "execution_count": 73,
     "metadata": {},
     "output_type": "execute_result"
    }
   ],
   "source": [
    "pratice_sentence2.strip('is')"
   ]
  },
  {
   "cell_type": "code",
   "execution_count": 76,
   "metadata": {},
   "outputs": [
    {
     "data": {
      "text/plain": [
       "'JFKGRUENK is fjretw'"
      ]
     },
     "execution_count": 76,
     "metadata": {},
     "output_type": "execute_result"
    }
   ],
   "source": [
    "\"JFKGRUENK is fjretw\".strip()"
   ]
  },
  {
   "cell_type": "code",
   "execution_count": 80,
   "metadata": {},
   "outputs": [
    {
     "name": "stdout",
     "output_type": "stream",
     "text": [
      "原始字串:Not tasty and the texture was just nasty\n"
     ]
    }
   ],
   "source": [
    "pratice_sentance3 =\"Not tasty and the texture was just nasty\"\n",
    "print(\"原始字串:{}\".format(pratice_sentance3))"
   ]
  },
  {
   "cell_type": "code",
   "execution_count": 82,
   "metadata": {},
   "outputs": [
    {
     "data": {
      "text/plain": [
       "'Not tasty and the texture was just disgusting'"
      ]
     },
     "execution_count": 82,
     "metadata": {},
     "output_type": "execute_result"
    }
   ],
   "source": [
    "pratice_sentance3.replace(\"nasty\",\"disgusting\")"
   ]
  },
  {
   "cell_type": "code",
   "execution_count": 84,
   "metadata": {},
   "outputs": [
    {
     "name": "stdout",
     "output_type": "stream",
     "text": [
      "NoT TasTy and The TexTure was jusT nasTy\n"
     ]
    }
   ],
   "source": [
    "print(pratice_sentance3.replace(\"t\",\"T\"))"
   ]
  },
  {
   "cell_type": "code",
   "execution_count": 86,
   "metadata": {},
   "outputs": [
    {
     "name": "stdout",
     "output_type": "stream",
     "text": [
      "NoT Tasty and the texture was just nasty\n"
     ]
    }
   ],
   "source": [
    "print(pratice_sentance3.replace(\"t\",\"T\",2))"
   ]
  },
  {
   "cell_type": "code",
   "execution_count": 88,
   "metadata": {},
   "outputs": [
    {
     "name": "stdout",
     "output_type": "stream",
     "text": [
      "原始字串:Stopped by during the late May bank holiday off Rick Steve recommendation and love it.\n"
     ]
    }
   ],
   "source": [
    "practice_sentance4 = \"Stopped by during the late May bank holiday off Rick Steve recommendation and love it.\"\n",
    "print(\"原始字串:{}\".format(practice_sentance4))"
   ]
  },
  {
   "cell_type": "code",
   "execution_count": 90,
   "metadata": {},
   "outputs": [
    {
     "data": {
      "text/plain": [
       "['Stopped',\n",
       " 'by',\n",
       " 'during',\n",
       " 'the',\n",
       " 'late',\n",
       " 'May',\n",
       " 'bank',\n",
       " 'holiday',\n",
       " 'off',\n",
       " 'Rick',\n",
       " 'Steve',\n",
       " 'recommendation',\n",
       " 'and',\n",
       " 'love',\n",
       " 'it.']"
      ]
     },
     "execution_count": 90,
     "metadata": {},
     "output_type": "execute_result"
    }
   ],
   "source": [
    "practice_sentance4.split(\" \")"
   ]
  },
  {
   "cell_type": "code",
   "execution_count": 93,
   "metadata": {},
   "outputs": [
    {
     "name": "stdout",
     "output_type": "stream",
     "text": [
      "原始字串:The selection on the menu was great and so were the prices.\n"
     ]
    }
   ],
   "source": [
    "pratice_sentence5 = \"The selection on the menu was great and so were the prices.\"\n",
    "print(\"原始字串:{}\".format(pratice_sentence5))"
   ]
  },
  {
   "cell_type": "code",
   "execution_count": 95,
   "metadata": {},
   "outputs": [
    {
     "data": {
      "text/plain": [
       "0"
      ]
     },
     "execution_count": 95,
     "metadata": {},
     "output_type": "execute_result"
    }
   ],
   "source": [
    "pratice_sentence5.count(\"a\",2,10)"
   ]
  },
  {
   "cell_type": "code",
   "execution_count": 97,
   "metadata": {},
   "outputs": [
    {
     "data": {
      "text/plain": [
       "True"
      ]
     },
     "execution_count": 97,
     "metadata": {},
     "output_type": "execute_result"
    }
   ],
   "source": [
    "#function:startswith()/endswith()\n",
    "pratice_sentence6 = \"Now I am getting angry and I want my damn pho.\"\n",
    "pratice_sentence6.startswith(\"Now\")"
   ]
  },
  {
   "cell_type": "code",
   "execution_count": 102,
   "metadata": {},
   "outputs": [
    {
     "data": {
      "text/plain": [
       "True"
      ]
     },
     "execution_count": 102,
     "metadata": {},
     "output_type": "execute_result"
    }
   ],
   "source": [
    "pratice_sentence6 = \"Now I am getting angry and I want my damn pho.\"\n",
    "pratice_sentence6.endswith(\".\")"
   ]
  },
  {
   "cell_type": "code",
   "execution_count": 105,
   "metadata": {},
   "outputs": [
    {
     "data": {
      "text/plain": [
       "False"
      ]
     },
     "execution_count": 105,
     "metadata": {},
     "output_type": "execute_result"
    }
   ],
   "source": [
    "pratice_sentence6 = \"Now I am getting angry and I want my damn pho.\"\n",
    "pratice_sentence6.endswith(\"I\")"
   ]
  },
  {
   "cell_type": "code",
   "execution_count": 107,
   "metadata": {},
   "outputs": [
    {
     "data": {
      "text/plain": [
       "'We love pyhton'"
      ]
     },
     "execution_count": 107,
     "metadata": {},
     "output_type": "execute_result"
    }
   ],
   "source": [
    "#capitalize()會將字串開頭轉為大寫\n",
    "\"we love pyhton\".capitalize()"
   ]
  },
  {
   "cell_type": "code",
   "execution_count": 109,
   "metadata": {},
   "outputs": [
    {
     "data": {
      "text/plain": [
       "9"
      ]
     },
     "execution_count": 109,
     "metadata": {},
     "output_type": "execute_result"
    }
   ],
   "source": [
    "#find()/index()\n",
    "## 尋找字串中 it 在哪\n",
    "pratice_senetence7 =\"Honeslty it didn't taste THAT fresh.\"\n",
    "pratice_senetence7.find(\"it\")"
   ]
  },
  {
   "cell_type": "code",
   "execution_count": 111,
   "metadata": {},
   "outputs": [
    {
     "data": {
      "text/plain": [
       "-1"
      ]
     },
     "execution_count": 111,
     "metadata": {},
     "output_type": "execute_result"
    }
   ],
   "source": [
    "pratice_senetence7 =\"Honeslty it didn't taste THAT fresh.\"\n",
    "pratice_senetence7.find(\"where\")"
   ]
  },
  {
   "cell_type": "code",
   "execution_count": 114,
   "metadata": {},
   "outputs": [
    {
     "data": {
      "text/plain": [
       "\"honeslty it didn't taste that fresh.\""
      ]
     },
     "execution_count": 114,
     "metadata": {},
     "output_type": "execute_result"
    }
   ],
   "source": [
    "#upper()&lower\n",
    "pratice_senetence7 =\"Honeslty it didn't taste THAT fresh.\"\n",
    "pratice_senetence7.upper()\n",
    "pratice_senetence7.lower()"
   ]
  },
  {
   "cell_type": "code",
   "execution_count": 118,
   "metadata": {},
   "outputs": [
    {
     "name": "stdout",
     "output_type": "stream",
     "text": [
      "Counter({'h': 4, 'j': 3, 'v': 3, 'n': 3, 'c': 3, 'd': 2, 'i': 2, 's': 2, '.': 2, 'o': 2, 'b': 2, 'u': 1, 'm': 1, 'a': 1, ';': 1, 'r': 1, ',': 1, 'q': 1, 'k': 1, ' ': 1, 'z': 1, '/': 1})\n"
     ]
    }
   ],
   "source": [
    "#counter\n",
    "from collections import Counter\n",
    "count_ = Counter (\"jdhviuhismn.adj;svoovhbjhrb,q.ccnk nzc/\")\n",
    "print(count_)"
   ]
  },
  {
   "cell_type": "code",
   "execution_count": 120,
   "metadata": {},
   "outputs": [
    {
     "data": {
      "text/plain": [
       "[('h', 4), ('j', 3), ('v', 3), ('n', 3), ('c', 3)]"
      ]
     },
     "execution_count": 120,
     "metadata": {},
     "output_type": "execute_result"
    }
   ],
   "source": [
    "count_.most_common(5)"
   ]
  },
  {
   "cell_type": "code",
   "execution_count": 122,
   "metadata": {},
   "outputs": [
    {
     "data": {
      "text/plain": [
       "4"
      ]
     },
     "execution_count": 122,
     "metadata": {},
     "output_type": "execute_result"
    }
   ],
   "source": [
    "count_.get(\"h\")"
   ]
  },
  {
   "cell_type": "code",
   "execution_count": null,
   "metadata": {},
   "outputs": [],
   "source": []
  }
 ],
 "metadata": {
  "kernelspec": {
   "display_name": "Python 3",
   "language": "python",
   "name": "python3"
  },
  "language_info": {
   "codemirror_mode": {
    "name": "ipython",
    "version": 3
   },
   "file_extension": ".py",
   "mimetype": "text/x-python",
   "name": "python",
   "nbconvert_exporter": "python",
   "pygments_lexer": "ipython3",
   "version": "3.7.4"
  }
 },
 "nbformat": 4,
 "nbformat_minor": 2
}
